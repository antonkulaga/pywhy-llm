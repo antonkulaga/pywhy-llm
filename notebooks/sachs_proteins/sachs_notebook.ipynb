{
 "cells": [
  {
   "cell_type": "code",
   "execution_count": 6,
   "metadata": {
    "ExecuteTime": {
     "end_time": "2023-09-05T21:01:02.620811245Z",
     "start_time": "2023-09-05T21:01:02.612860558Z"
    }
   },
   "outputs": [],
   "source": [
    "from dotenv import load_dotenv\n",
    "from typing import Dict, List, Tuple\n",
    "import guidance\n",
    "import os\n",
    "\n",
    "load_dotenv()\n",
    "\n",
    "api_key = os.getenv(\"api_key\")\n",
    "organization = os.getenv(\"organization\")\n",
    "\n",
    "gpt4 = guidance.llms.OpenAI(api_key=api_key, organization=organization, model=\"gpt-4\")\n",
    "davinci = guidance.llms.OpenAI(api_key=api_key, organization=organization, model=\"text-davinci-003\")"
   ]
  },
  {
   "cell_type": "code",
   "execution_count": 7,
   "metadata": {
    "ExecuteTime": {
     "end_time": "2023-09-05T21:01:03.931795510Z",
     "start_time": "2023-09-05T21:01:03.923926964Z"
    }
   },
   "outputs": [],
   "source": [
    "domain = \"SACHS Protein-Signaling Network\"\n",
    "\n",
    "variables = [\n",
    "    \"Plcg\", \n",
    "    \"PIP3\", \n",
    "    \"PIP2\", \n",
    "    \"P38\", \n",
    "    \"Jnk\", \n",
    "    \"PKA\", \n",
    "    \"PKC\", \n",
    "    \"Raf\", \n",
    "    \"Mek\", \n",
    "    \"Erk\", \n",
    "    \"Akt\"\n",
    "]\n",
    "\n",
    "edges = [\n",
    "    (\"Plcg\", \"PIP3\"),\n",
    "    (\"Plcg\", \"PIP2\"),\n",
    "    (\"PIP3\", \"PIP2\"),\n",
    "    (\"PKC\", \"Raf\"),\n",
    "    (\"PKC\", \"PKA\"),\n",
    "    (\"PKC\", \"Jnk\"),\n",
    "    (\"PKC\", \"P38\"),\n",
    "    (\"PKC\", \"Mek\"),\n",
    "    (\"PKA\", \"Raf\"),\n",
    "    (\"PKA\", \"Mek\"),\n",
    "    (\"PKA\", \"Erk\"),\n",
    "    (\"PKA\", \"Akt\"),\n",
    "    (\"PKA\", \"Jnk\"),\n",
    "    (\"PKA\", \"P38\"),\n",
    "    (\"Raf\", \"Mek\"),\n",
    "    (\"Mek\", \"Erk\"),\n",
    "    (\"Erk\", \"Akt\"),\n",
    "]"
   ]
  },
  {
   "cell_type": "code",
   "execution_count": 8,
   "metadata": {
    "ExecuteTime": {
     "end_time": "2023-09-05T21:01:05.095996272Z",
     "start_time": "2023-09-05T21:01:05.010979347Z"
    }
   },
   "outputs": [
    {
     "name": "stdout",
     "output_type": "stream",
     "text": [
      "['/home/antonkulaga/.local/share/JetBrains/Toolbox/apps/IDEA-U/ch-0/232.9559.62.plugins/python/helpers-pro/jupyter_debug', '/home/antonkulaga/.local/share/JetBrains/Toolbox/apps/IDEA-U/ch-0/232.9559.62.plugins/python/helpers/pydev', '/home/antonkulaga/sources/pywhy-llm/notebooks/sachs_proteins', '/home/antonkulaga/sources/pywhy-llm', '/home/antonkulaga/micromamba/envs/pywhy-llm/lib/python310.zip', '/home/antonkulaga/micromamba/envs/pywhy-llm/lib/python3.10', '/home/antonkulaga/micromamba/envs/pywhy-llm/lib/python3.10/lib-dynload', '', '/home/antonkulaga/.local/lib/python3.10/site-packages', '/home/antonkulaga/sources/indexpaper', '/home/antonkulaga/micromamba/envs/pywhy-llm/lib/python3.10/site-packages', '..', '..']\n"
     ]
    }
   ],
   "source": [
    "import sys\n",
    "sys.path.append(\"..\")\n",
    "print(sys.path)\n",
    "\n",
    "from suggesters import ModelSuggester\n",
    "model = ModelSuggester()"
   ]
  },
  {
   "cell_type": "code",
   "execution_count": 9,
   "metadata": {
    "ExecuteTime": {
     "end_time": "2023-09-05T21:01:06.568017980Z",
     "start_time": "2023-09-05T21:01:06.549682439Z"
    }
   },
   "outputs": [],
   "source": [
    "llm_descriptions = {}\n",
    "for var in variables:\n",
    "    llm_descriptions[var] = 0\n",
    "\n",
    "\n",
    "llm_edges = {}\n",
    "for var_a in variables:\n",
    "    for var_b in variables:\n",
    "        if var_a != var_b:\n",
    "            llm_edges[(var_a, var_b)] = 0\n"
   ]
  },
  {
   "cell_type": "code",
   "execution_count": 10,
   "metadata": {
    "ExecuteTime": {
     "end_time": "2023-09-05T21:01:08.112703087Z",
     "start_time": "2023-09-05T21:01:08.088675849Z"
    }
   },
   "outputs": [
    {
     "ename": "TypeError",
     "evalue": "ModelSuggester.suggest_description() got an unexpected keyword argument 'variable'",
     "output_type": "error",
     "traceback": [
      "\u001B[0;31m---------------------------------------------------------------------------\u001B[0m",
      "\u001B[0;31mTypeError\u001B[0m                                 Traceback (most recent call last)",
      "Cell \u001B[0;32mIn[10], line 2\u001B[0m\n\u001B[1;32m      1\u001B[0m \u001B[38;5;28;01mfor\u001B[39;00m var \u001B[38;5;129;01min\u001B[39;00m variables:\n\u001B[0;32m----> 2\u001B[0m     llm_descriptions \u001B[38;5;241m=\u001B[39m \u001B[43mmodel\u001B[49m\u001B[38;5;241;43m.\u001B[39;49m\u001B[43msuggest_description\u001B[49m\u001B[43m(\u001B[49m\u001B[43mllm\u001B[49m\u001B[38;5;241;43m=\u001B[39;49m\u001B[43mgpt4\u001B[49m\u001B[43m,\u001B[49m\u001B[43m \u001B[49m\u001B[43mvariable\u001B[49m\u001B[38;5;241;43m=\u001B[39;49m\u001B[43mvar\u001B[49m\u001B[43m)\u001B[49m\n",
      "\u001B[0;31mTypeError\u001B[0m: ModelSuggester.suggest_description() got an unexpected keyword argument 'variable'"
     ]
    }
   ],
   "source": [
    "for var in variables:\n",
    "    llm_descriptions = model.suggest_description(llm=gpt4, variable=var)"
   ]
  },
  {
   "cell_type": "code",
   "execution_count": 13,
   "metadata": {},
   "outputs": [],
   "source": [
    "# i = 1\n",
    "# for var_a in variables:\n",
    "#     for var_b in variables:\n",
    "#         if var_a != var_b:\n",
    "                \n",
    "#             if llm_edges[(var_a, var_b)] == 0 and llm_edges[(var_b, var_a)] == 0:\n",
    "#                 id = \"pair\" + str(i)\n",
    "#                 i += 1\n",
    "\n",
    "#                 if llm_descriptions[var_a] == 0 and llm_descriptions[var_b] == 0:\n",
    "#                     direction = model.suggest_relationship(llm=gpt4, variable_a=var_a, variable_b=var_b, description_a=llm_descriptions[var_a], description_b=llm_descriptions[var_b])\n",
    "#                 else:\n",
    "#                     direction = model.suggest_relationship(llm=gpt4, variable_a=var_a, variable_b=var_b, domain=domain)\n",
    "                    \n",
    "#                 if direction==\"R\" and (var_a, var_b) in edges:\n",
    "#                     correct_direction = 1\n",
    "#                 elif direction==\"L\" and (var_b, var_a) in edges:\n",
    "#                     correct_direction = 1\n",
    "#                 elif direction==\"N\" and (var_a, var_b) not in edges and (var_b, var_a) not in edges:\n",
    "#                     correct_direction = 1\n",
    "#                 else:\n",
    "#                     correct_direction= 0\n",
    "\n",
    "\n",
    "#                 llm_edges[(var_a, var_b)] = { \"pair_id\": id, \n",
    "#                                     \"var_a\": var_a,\n",
    "#                                     \"var_b\": var_b, \n",
    "#                                     \"correct_direction\": correct_direction\n",
    "#                                     }"
   ]
  },
  {
   "cell_type": "code",
   "execution_count": 14,
   "metadata": {},
   "outputs": [],
   "source": [
    "# import csv\n",
    "# import copy\n",
    "\n",
    "# # CSV file name\n",
    "# csv_file = \"gpt-4_results_straight_prompt_w_descriptions.csv\"\n",
    "\n",
    "# # Define the CSV file's header (column names)\n",
    "# header = [\"CorrectACauseB\", \"CorrectBCauseA\", \"PairID\", \"VarA\", \"VarB\", \"GroundTruth\"]\n",
    "\n",
    "# # Write the data to the CSV file\n",
    "# with open(csv_file, mode=\"w\", newline=\"\", encoding=\"utf-8\") as file:\n",
    "#     writer = csv.DictWriter(file, fieldnames=header)\n",
    "#     writer.writeheader() \n",
    "#     for pair_id, values in llm_edges.items():\n",
    "#         writer.writerow(values)\n",
    "\n",
    "# print(f\"CSV file '{csv_file}' has been created.\")\n"
   ]
  },
  {
   "cell_type": "markdown",
   "metadata": {},
   "source": [
    "# Debugging"
   ]
  },
  {
   "cell_type": "code",
   "execution_count": 6,
   "metadata": {},
   "outputs": [],
   "source": [
    "def build_two_sided_relationship_program(\n",
    "        use_domain=\"\",\n",
    "        use_description=False,\n",
    "        ask_reference=False,\n",
    "        consider_feedback_loop=False,\n",
    "    ):\n",
    "    assistant = \"\"\"{{#assistant~}} {{gen 'output' temperature=temperature}} {{~/assistant}}\"\"\"\n",
    "\n",
    "    # set systen\n",
    "    system = \"\"\n",
    "    if use_domain == \"\":\n",
    "        system = \"\"\"{{#system~}} You are a helpful assistant on causal reasoning. Your goal is to answer questions about cause and effect in a factual and concise way. {{~/system}}\"\"\"\n",
    "    else:\n",
    "        system = \"\"\"{{#system~}} You are a helpful assistant on causal reasoning and \"\"\" + use_domain + \"\"\". Your goal is to answer questions about cause and effect in a factual and concise way. {{~/system}}\"\"\"\n",
    "\n",
    "    # set user\n",
    "    user = \"\"\"\"\"\"\n",
    "    if use_description:\n",
    "        user += \"\"\"{{#user~}} Which of the following cause and effect situations between {{variable_a}}, where {{description_a}}, and {{variable_b}}, where {{description_b}}, make most factual sense?\"\"\"\n",
    "\n",
    "    # no variable description\n",
    "    else:\n",
    "        user += \"\"\"{{#user~}} Which of the following cause and effect situations between {{variable_a}} and {{variable_b}} make most factual sense?\"\"\"\n",
    "\n",
    "    # consider \"both\" in answer option\n",
    "    if consider_feedback_loop:\n",
    "        user += \"\"\" \n",
    "        A. Changing {{variable_a}} changes {{variable_b}}?\n",
    "        B. Changing {{variable_b}} changes {{variable_a}}?\n",
    "        C. Both A and B.\n",
    "        D. None.\n",
    "    \"\"\"\n",
    "\n",
    "    # don't consider \"both\" in answer options\n",
    "    else:\n",
    "        user += \"\"\" \n",
    "        A. Changing {{variable_a}} changes {{variable_b}}?\n",
    "        B. Changing {{variable_b}} changes {{variable_a}}?\n",
    "        C. None.\n",
    "    \"\"\"\n",
    "\n",
    "    # request research paper support\n",
    "    if ask_reference:\n",
    "        user += \"\"\"What are three research papers that discuss each of these variables? What do they say about the relationship they may or may not have? You are to provide the paper title and a one sentence summary each paper's argument. Then use those arguments as reference to identify which of the cause and effect situations between {{variable_a}} and {{variable_b}} make most factual sense.\"\"\"\n",
    "\n",
    "        # fourth option in examples\n",
    "        if consider_feedback_loop:\n",
    "            user += \"\"\"Answer A, B, C, or D.\n",
    "        Within one sentence, you are to think step-by-step to make sure that you have the right answer. Provide your final answer within the tags, <answer>A/B/C/D</answer>, and your references within the tags <reference>Author, Title, Year of publication</reference. \n",
    "        \\n\\n\\n----------------\\n\\n\\nExample of output structure: <answer>A</answer>\\n<reference>Author, Title, Year of publication</reference>\\n\\n\\n----------------\\n\\n\\nExample of output structure: <answer>B</answer>\\n<reference>Author, Title, Year of publication</reference>----------------\\n\\n\\nExample of output structure: <answer>C</answer>\\n<reference>Author, Title, Year of publication</reference>----------------\\n\\n\\nExample of output structure: <answer>D</answer>\\n<reference>Author, Title, Year of publication</reference> {{~/user}}\"\"\"\n",
    "\n",
    "        # three options in examples\n",
    "        else:\n",
    "            user += \"\"\"Answer A, B, or C.\n",
    "        Within one sentence, you are to think step-by-step to make sure that you have the right answer. Provide your final answer within the tags, <answer>A/B/C/D</answer>, and your references within the tags <reference>Author, Title, Year of publication</reference. \n",
    "        \\n\\n\\n----------------\\n\\n\\nExample of output structure: <answer>A</answer>\\n<reference>Author, Title, Year of publication</reference>\\n\\n\\n----------------\\n\\n\\nExample of output structure: <answer>B</answer>\\n<reference>Author, Title, Year of publication</reference>----------------\\n\\n\\nExample of output structure: <answer>C</answer>\\n<reference>Author, Title, Year of publication</reference> {{~/user}}\"\"\"\n",
    "\n",
    "    # Don't request research paper support\n",
    "    else:\n",
    "        user += \"\"\"Think carefully and factually to identify which of the cause and effect situations between {{variable_a}} and {{variable_b}} makes most factual sense.\"\"\"\n",
    "\n",
    "        # consider four examples\n",
    "        if consider_feedback_loop:\n",
    "            user += \"\"\"Answer A, B, C, D. Within one sentence, you are to think step-by-step to make sure that you have the right answer. Then provide your final answer within the tags, <answer>A/B/C/D</answer>.\n",
    "            \\n\\n\\n----------------\\n\\n\\nExample of output structure: <answer>A</answer>\\n\\n\\n----------------\\n\\n\\nExample of output structure: <answer>B</answer>----------------\\n\\n\\nExample of output structure: <answer>C</answer>----------------\\n\\n\\nExample of output structure: <answer>D</answer>{{~/user}}\"\"\"\n",
    "\n",
    "        # consider three examples\n",
    "        else:\n",
    "            user += \"\"\"\n",
    "            Think step-by-step to make sure that you have the right answer. Then provide your final answer within the tags, <answer>A/B/C</answer>.\n",
    "            \\n\\n\\n----------------\\n\\n\\nExample of output structure: <answer>A</answer>\\n\\n\\n----------------\\n\\n\\nExample of output structure: <answer>B</answer>\\n\\n\\n----------------\\n\\n\\nExample of output structure: <answer>C</answer>{{~/user}}\"\"\"\n",
    "\n",
    "    print(system)\n",
    "    print(user)\n",
    "    print(assistant)\n",
    "\n",
    "    return(system + user + assistant)"
   ]
  },
  {
   "cell_type": "code",
   "execution_count": 16,
   "metadata": {},
   "outputs": [
    {
     "name": "stdout",
     "output_type": "stream",
     "text": [
      "{{#system~}} You are a helpful assistant on causal reasoning and SACHS Protein-Signaling Network. Your goal is to answer questions about cause and effect in a factual and concise way. {{~/system}}\n",
      "{{#user~}} Which of the following cause and effect situations between {{variable_a}} and {{variable_b}} make most factual sense? \n",
      "        A. Changing {{variable_a}} changes {{variable_b}}?\n",
      "        B. Changing {{variable_b}} changes {{variable_a}}?\n",
      "        C. None.\n",
      "    Think carefully and factually to identify which of the cause and effect situations between {{variable_a}} and {{variable_b}} makes most factual sense.\n",
      "            Think step-by-step to make sure that you have the right answer. Then provide your final answer within the tags, <answer>A/B/C</answer>.\n",
      "            \n",
      "\n",
      "\n",
      "----------------\n",
      "\n",
      "\n",
      "Example of output structure: <answer>A</answer>\n",
      "\n",
      "\n",
      "----------------\n",
      "\n",
      "\n",
      "Example of output structure: <answer>B</answer>\n",
      "\n",
      "\n",
      "----------------\n",
      "\n",
      "\n",
      "Example of output structure: <answer>C</answer>{{~/user}}\n",
      "{{#assistant~}} {{gen 'output' temperature=temperature}} {{~/assistant}}\n"
     ]
    }
   ],
   "source": [
    "program = guidance(build_two_sided_relationship_program(use_domain=domain))"
   ]
  },
  {
   "cell_type": "code",
   "execution_count": 17,
   "metadata": {},
   "outputs": [
    {
     "data": {
      "text/html": [
       "<div id=\"guidance-stop-button-ce9ed780-7fb0-4c29-8a84-e98dedbdc0f6\" style=\"cursor: pointer; margin: 0px; display: none; float: right; padding: 3px; border-radius: 4px 4px 4px 4px; border: 0px solid rgba(127, 127, 127, 1); padding-left: 10px; padding-right: 10px; font-size: 13px; background-color: rgba(127, 127, 127, 0.25);\">Stop program</div><div id=\"guidance-content-ce9ed780-7fb0-4c29-8a84-e98dedbdc0f6\"><pre style='margin: 0px; padding: 0px; padding-left: 8px; margin-left: -8px; border-radius: 0px; border-left: 1px solid rgba(127, 127, 127, 0.2); white-space: pre-wrap; font-family: ColfaxAI, Arial; font-size: 15px; line-height: 23px;'><div style='display: flex; border-bottom: 1px solid rgba(127, 127, 127, 0.2); align-items: center;'><div style='flex: 0 0 80px; opacity: 0.5;'>system</div><div style='flex-grow: 1; padding: 5px; padding-top: 10px; padding-bottom: 10px; margin-top: 0px; white-space: pre-wrap; margin-bottom: 0px;'>You are a helpful assistant on causal reasoning and SACHS Protein-Signaling Network. Your goal is to answer questions about cause and effect in a factual and concise way.</div></div><div style='display: flex; border-bottom: 1px solid rgba(127, 127, 127, 0.2); align-items: center;'><div style='flex: 0 0 80px; opacity: 0.5;'>user</div><div style='flex-grow: 1; padding: 5px; padding-top: 10px; padding-bottom: 10px; margin-top: 0px; white-space: pre-wrap; margin-bottom: 0px;'>Which of the following cause and effect situations between <span style='background-color: rgba(0, 138.56128016, 250.76166089, 0.25); display: inline;' title='{{variable_a}}'>Plcg</span> and <span style='background-color: rgba(0, 138.56128016, 250.76166089, 0.25); display: inline;' title='{{variable_b}}'>PIP3</span> make most factual sense? \n",
       "        A. Changing <span style='background-color: rgba(0, 138.56128016, 250.76166089, 0.25); display: inline;' title='{{variable_a}}'>Plcg</span> changes <span style='background-color: rgba(0, 138.56128016, 250.76166089, 0.25); display: inline;' title='{{variable_b}}'>PIP3</span>?\n",
       "        B. Changing <span style='background-color: rgba(0, 138.56128016, 250.76166089, 0.25); display: inline;' title='{{variable_b}}'>PIP3</span> changes <span style='background-color: rgba(0, 138.56128016, 250.76166089, 0.25); display: inline;' title='{{variable_a}}'>Plcg</span>?\n",
       "        C. None.\n",
       "    Think carefully and factually to identify which of the cause and effect situations between <span style='background-color: rgba(0, 138.56128016, 250.76166089, 0.25); display: inline;' title='{{variable_a}}'>Plcg</span> and <span style='background-color: rgba(0, 138.56128016, 250.76166089, 0.25); display: inline;' title='{{variable_b}}'>PIP3</span> makes most factual sense.\n",
       "            Think step-by-step to make sure that you have the right answer. Then provide your final answer within the tags, &lt;answer&gt;A/B/C&lt;/answer&gt;.\n",
       "            \n",
       "\n",
       "\n",
       "----------------\n",
       "\n",
       "\n",
       "Example of output structure: &lt;answer&gt;A&lt;/answer&gt;\n",
       "\n",
       "\n",
       "----------------\n",
       "\n",
       "\n",
       "Example of output structure: &lt;answer&gt;B&lt;/answer&gt;\n",
       "\n",
       "\n",
       "----------------\n",
       "\n",
       "\n",
       "Example of output structure: &lt;answer&gt;C&lt;/answer&gt;</div></div><div style='display: flex; border-bottom: 1px solid rgba(127, 127, 127, 0.2); align-items: center;'><div style='flex: 0 0 80px; opacity: 0.5;'>assistant</div><div style='flex-grow: 1; padding: 5px; padding-top: 10px; padding-bottom: 10px; margin-top: 0px; white-space: pre-wrap; margin-bottom: 0px;'><span style='background-color: rgba(0, 165, 0, 0.25); opacity: 1.0; display: inline;' title='{{gen &#x27;output&#x27; temperature=temperature}}'></div></div></pre></div>\n",
       "<script type=\"text/javascript\">(()=>{var t={296:(t,e,n)=>{var i=NaN,o=\"[object Symbol]\",r=/^\\s+|\\s+$/g,a=/^[-+]0x[0-9a-f]+$/i,s=/^0b[01]+$/i,c=/^0o[0-7]+$/i,d=parseInt,u=\"object\"==typeof n.g&&n.g&&n.g.Object===Object&&n.g,l=\"object\"==typeof self&&self&&self.Object===Object&&self,f=u||l||Function(\"return this\")(),h=Object.prototype.toString,p=Math.max,m=Math.min,g=function(){return f.Date.now()};function b(t){var e=typeof t;return!!t&&(\"object\"==e||\"function\"==e)}function y(t){if(\"number\"==typeof t)return t;if(function(t){return\"symbol\"==typeof t||function(t){return!!t&&\"object\"==typeof t}(t)&&h.call(t)==o}(t))return i;if(b(t)){var e=\"function\"==typeof t.valueOf?t.valueOf():t;t=b(e)?e+\"\":e}if(\"string\"!=typeof t)return 0===t?t:+t;t=t.replace(r,\"\");var n=s.test(t);return n||c.test(t)?d(t.slice(2),n?2:8):a.test(t)?i:+t}t.exports=function(t,e,n){var i,o,r,a,s,c,d=0,u=!1,l=!1,f=!0;if(\"function\"!=typeof t)throw new TypeError(\"Expected a function\");function h(e){var n=i,r=o;return i=o=void 0,d=e,a=t.apply(r,n)}function v(t){var n=t-c;return void 0===c||n>=e||n<0||l&&t-d>=r}function _(){var t=g();if(v(t))return w(t);s=setTimeout(_,function(t){var n=e-(t-c);return l?m(n,r-(t-d)):n}(t))}function w(t){return s=void 0,f&&i?h(t):(i=o=void 0,a)}function j(){var t=g(),n=v(t);if(i=arguments,o=this,c=t,n){if(void 0===s)return function(t){return d=t,s=setTimeout(_,e),u?h(t):a}(c);if(l)return s=setTimeout(_,e),h(c)}return void 0===s&&(s=setTimeout(_,e)),a}return e=y(e)||0,b(n)&&(u=!!n.leading,r=(l=\"maxWait\"in n)?p(y(n.maxWait)||0,e):r,f=\"trailing\"in n?!!n.trailing:f),j.cancel=function(){void 0!==s&&clearTimeout(s),d=0,i=c=o=s=void 0},j.flush=function(){return void 0===s?a:w(g())},j}},777:t=>{var e,n,i=Math.max,o=(e=function(t,e){return function(t,e,n){if(\"function\"!=typeof t)throw new TypeError(\"Expected a function\");return setTimeout((function(){t.apply(void 0,n)}),1)}(t,0,e)},n=i(void 0===n?e.length-1:n,0),function(){for(var t=arguments,o=-1,r=i(t.length-n,0),a=Array(r);++o<r;)a[o]=t[n+o];o=-1;for(var s=Array(n+1);++o<n;)s[o]=t[o];return s[n]=a,function(t,e,n){switch(n.length){case 0:return t.call(e);case 1:return t.call(e,n[0]);case 2:return t.call(e,n[0],n[1]);case 3:return t.call(e,n[0],n[1],n[2])}return t.apply(e,n)}(e,this,s)});t.exports=o}},e={};function n(i){var o=e[i];if(void 0!==o)return o.exports;var r=e[i]={exports:{}};return t[i](r,r.exports,n),r.exports}n.n=t=>{var e=t&&t.__esModule?()=>t.default:()=>t;return n.d(e,{a:e}),e},n.d=(t,e)=>{for(var i in e)n.o(e,i)&&!n.o(t,i)&&Object.defineProperty(t,i,{enumerable:!0,get:e[i]})},n.g=function(){if(\"object\"==typeof globalThis)return globalThis;try{return this||new Function(\"return this\")()}catch(t){if(\"object\"==typeof window)return window}}(),n.o=(t,e)=>Object.prototype.hasOwnProperty.call(t,e),(()=>{\"use strict\";const t=t=>{const e=new Set;do{for(const n of Reflect.ownKeys(t))e.add([t,n])}while((t=Reflect.getPrototypeOf(t))&&t!==Object.prototype);return e};function e(e,{include:n,exclude:i}={}){const o=t=>{const e=e=>\"string\"==typeof e?t===e:e.test(t);return n?n.some(e):!i||!i.some(e)};for(const[n,i]of t(e.constructor.prototype)){if(\"constructor\"===i||!o(i))continue;const t=Reflect.getOwnPropertyDescriptor(n,i);t&&\"function\"==typeof t.value&&(e[i]=e[i].bind(e))}return e}var i=n(777),o=n.n(i),r=n(296),a=n.n(r);class s{constructor(t,n){e(this),this.interfaceId=t,this.callbackMap={},this.data={},this.pendingData={},this.jcomm=new c(\"guidance_interface_target_\"+this.interfaceId,this.updateData,\"open\"),this.debouncedSendPendingData500=a()(this.sendPendingData,500),this.debouncedSendPendingData1000=a()(this.sendPendingData,1e3),n&&o()(n)}send(t,e){this.addPendingData(t,e),this.sendPendingData()}sendEvent(t){for(const e of Object.keys(t))this.addPendingData(e,t[e]);this.sendPendingData()}debouncedSendEvent500(t){for(const e of Object.keys(t))this.addPendingData(e,t[e]);this.debouncedSendPendingData500()}debouncedSend500(t,e){this.addPendingData(t,e),this.debouncedSendPendingData500()}debouncedSend1000(t,e){this.addPendingData(t,e),this.debouncedSendPendingData1000()}addPendingData(t,e){Array.isArray(t)||(t=[t]);for(const n in t)this.pendingData[t[n]]=e}updateData(t){t=JSON.parse(t.data);for(const e in t)this.data[e]=t[e];for(const e in t)e in this.callbackMap&&this.callbackMap[e](this.data[e])}subscribe(t,e){this.callbackMap[t]=e,o()((e=>this.callbackMap[t](this.data[t])))}sendPendingData(){this.jcomm.send_data(this.pendingData),this.pendingData={}}}class c{constructor(t,e,n=\"open\"){this._fire_callback=this._fire_callback.bind(this),this._register=this._register.bind(this),this.jcomm=void 0,this.callback=e,void 0!==window.Jupyter?\"register\"===n?Jupyter.notebook.kernel.comm_manager.register_target(t,this._register):(this.jcomm=Jupyter.notebook.kernel.comm_manager.new_comm(t),this.jcomm.on_msg(this._fire_callback)):void 0!==window._mgr&&(\"register\"===n?window._mgr.widgetManager.proxyKernel.registerCommTarget(t,this._register):(this.jcomm=window._mgr.widgetManager.proxyKernel.createComm(t),this.jcomm.open({},\"\"),this.jcomm.onMsg=this._fire_callback))}send_data(t){void 0!==this.jcomm?this.jcomm.send(t):console.error(\"Jupyter comm module not yet loaded! So we can't send the message.\")}_register(t,e){this.jcomm=t,this.jcomm.on_msg(this._fire_callback)}_fire_callback(t){this.callback(t.content.data)}}class d{constructor(t,n){e(this),this.id=t,this.comm=new s(t),this.comm.subscribe(\"append\",this.appendData),this.comm.subscribe(\"replace\",this.replaceData),this.comm.subscribe(\"event\",this.eventOccurred),this.element=document.getElementById(\"guidance-content-\"+t),this.stop_button=document.getElementById(\"guidance-stop-button-\"+t),this.stop_button.onclick=()=>this.comm.send(\"event\",\"stop\")}appendData(t){t&&(this.stop_button.style.display=\"inline-block\",this.element.innerHTML+=t)}replaceData(t){t&&(this.stop_button.style.display=\"inline-block\",this.element.innerHTML=t)}eventOccurred(t){\"complete\"===t&&(this.stop_button.style.display=\"none\")}}window._guidanceDisplay=function(t,e){return new d(t,e)}})()})();; window._guidanceDisplay(\"ce9ed780-7fb0-4c29-8a84-e98dedbdc0f6\");</script>"
      ]
     },
     "metadata": {},
     "output_type": "display_data"
    },
    {
     "ename": "",
     "evalue": "",
     "output_type": "error",
     "traceback": [
      "\u001B[1;31mCannot execute code, session has been disposed. Please try restarting the Kernel."
     ]
    },
    {
     "ename": "",
     "evalue": "",
     "output_type": "error",
     "traceback": [
      "\u001B[1;31mThe Kernel crashed while executing code in the the current cell or a previous cell. Please review the code in the cell(s) to identify a possible cause of the failure. Click <a href='https://aka.ms/vscodeJupyterKernelCrash'>here</a> for more info. View Jupyter <a href='command:jupyter.viewOutput'>log</a> for further details."
     ]
    }
   ],
   "source": [
    "for var_a in variables:\n",
    "    for var_b in variables:\n",
    "        if var_a != var_b:\n",
    "            output = program(use_domain=domain, variable_a=var_a, variable_b=var_b, llm=gpt4, temperature=0.3)"
   ]
  },
  {
   "cell_type": "markdown",
   "metadata": {},
   "source": [
    "# Testing appended guidance program string"
   ]
  },
  {
   "cell_type": "code",
   "execution_count": 7,
   "metadata": {},
   "outputs": [],
   "source": [
    "system = \"\"\"{{#system~}} You are a really good comedian who can look into the depth of a person, undersand them, and find comedy in their suffering. {{~/system}}\"\"\"\n",
    "user = \"\"\"{{#user~}} I am learnin about fashion and how to dress myself for who I wish to be. \"\"\"\n",
    "user += \"\"\"I've come to realize how much I love fantasy, medieval, and nordic music (celtic songs), art, scenery, and artistic expression.\"\"\"\n",
    "user += \"\"\"I would like to find a way to add these creative things to my wardrobe in a way where I can comfortably use it at the office.{{~/user}}\"\"\"\n",
    "assistant = \"\"\"{{#assistant~}} {{gen \"output\"}} {{~/assistant}}\"\"\""
   ]
  },
  {
   "cell_type": "code",
   "execution_count": 8,
   "metadata": {},
   "outputs": [
    {
     "data": {
      "text/html": [
       "<div id=\"guidance-stop-button-aba9a926-f882-42be-8415-da846a100c62\" style=\"cursor: pointer; margin: 0px; display: none; float: right; padding: 3px; border-radius: 4px 4px 4px 4px; border: 0px solid rgba(127, 127, 127, 1); padding-left: 10px; padding-right: 10px; font-size: 13px; background-color: rgba(127, 127, 127, 0.25);\">Stop program</div><div id=\"guidance-content-aba9a926-f882-42be-8415-da846a100c62\"><pre style='margin: 0px; padding: 0px; padding-left: 8px; margin-left: -8px; border-radius: 0px; border-left: 1px solid rgba(127, 127, 127, 0.2); white-space: pre-wrap; font-family: ColfaxAI, Arial; font-size: 15px; line-height: 23px;'><div style='display: flex; border-bottom: 1px solid rgba(127, 127, 127, 0.2); align-items: center;'><div style='flex: 0 0 80px; opacity: 0.5;'>system</div><div style='flex-grow: 1; padding: 5px; padding-top: 10px; padding-bottom: 10px; margin-top: 0px; white-space: pre-wrap; margin-bottom: 0px;'>You are a really good comedian who can look into the depth of a person, undersand them, and find comedy in their suffering.</div></div><div style='display: flex; border-bottom: 1px solid rgba(127, 127, 127, 0.2); align-items: center;'><div style='flex: 0 0 80px; opacity: 0.5;'>user</div><div style='flex-grow: 1; padding: 5px; padding-top: 10px; padding-bottom: 10px; margin-top: 0px; white-space: pre-wrap; margin-bottom: 0px;'>I am learnin about fashion and how to dress myself for who I wish to be. I&#x27;ve come to realize how much I love fantasy, medieval, and nordic music (celtic songs), art, scenery, and artistic expression.I would like to find a way to add these creative things to my wardrobe in a way where I can comfortably use it at the office.</div></div><div style='display: flex; border-bottom: 1px solid rgba(127, 127, 127, 0.2); align-items: center;'><div style='flex: 0 0 80px; opacity: 0.5;'>assistant</div><div style='flex-grow: 1; padding: 5px; padding-top: 10px; padding-bottom: 10px; margin-top: 0px; white-space: pre-wrap; margin-bottom: 0px;'><span style='background-color: rgba(0, 165, 0, 0.25); opacity: 1.0; display: inline;' title='{{gen &quot;output&quot;}}'></div></div></pre></div>\n",
       "<script type=\"text/javascript\">(()=>{var t={296:(t,e,n)=>{var i=NaN,o=\"[object Symbol]\",r=/^\\s+|\\s+$/g,a=/^[-+]0x[0-9a-f]+$/i,s=/^0b[01]+$/i,c=/^0o[0-7]+$/i,d=parseInt,u=\"object\"==typeof n.g&&n.g&&n.g.Object===Object&&n.g,l=\"object\"==typeof self&&self&&self.Object===Object&&self,f=u||l||Function(\"return this\")(),h=Object.prototype.toString,p=Math.max,m=Math.min,g=function(){return f.Date.now()};function b(t){var e=typeof t;return!!t&&(\"object\"==e||\"function\"==e)}function y(t){if(\"number\"==typeof t)return t;if(function(t){return\"symbol\"==typeof t||function(t){return!!t&&\"object\"==typeof t}(t)&&h.call(t)==o}(t))return i;if(b(t)){var e=\"function\"==typeof t.valueOf?t.valueOf():t;t=b(e)?e+\"\":e}if(\"string\"!=typeof t)return 0===t?t:+t;t=t.replace(r,\"\");var n=s.test(t);return n||c.test(t)?d(t.slice(2),n?2:8):a.test(t)?i:+t}t.exports=function(t,e,n){var i,o,r,a,s,c,d=0,u=!1,l=!1,f=!0;if(\"function\"!=typeof t)throw new TypeError(\"Expected a function\");function h(e){var n=i,r=o;return i=o=void 0,d=e,a=t.apply(r,n)}function v(t){var n=t-c;return void 0===c||n>=e||n<0||l&&t-d>=r}function _(){var t=g();if(v(t))return w(t);s=setTimeout(_,function(t){var n=e-(t-c);return l?m(n,r-(t-d)):n}(t))}function w(t){return s=void 0,f&&i?h(t):(i=o=void 0,a)}function j(){var t=g(),n=v(t);if(i=arguments,o=this,c=t,n){if(void 0===s)return function(t){return d=t,s=setTimeout(_,e),u?h(t):a}(c);if(l)return s=setTimeout(_,e),h(c)}return void 0===s&&(s=setTimeout(_,e)),a}return e=y(e)||0,b(n)&&(u=!!n.leading,r=(l=\"maxWait\"in n)?p(y(n.maxWait)||0,e):r,f=\"trailing\"in n?!!n.trailing:f),j.cancel=function(){void 0!==s&&clearTimeout(s),d=0,i=c=o=s=void 0},j.flush=function(){return void 0===s?a:w(g())},j}},777:t=>{var e,n,i=Math.max,o=(e=function(t,e){return function(t,e,n){if(\"function\"!=typeof t)throw new TypeError(\"Expected a function\");return setTimeout((function(){t.apply(void 0,n)}),1)}(t,0,e)},n=i(void 0===n?e.length-1:n,0),function(){for(var t=arguments,o=-1,r=i(t.length-n,0),a=Array(r);++o<r;)a[o]=t[n+o];o=-1;for(var s=Array(n+1);++o<n;)s[o]=t[o];return s[n]=a,function(t,e,n){switch(n.length){case 0:return t.call(e);case 1:return t.call(e,n[0]);case 2:return t.call(e,n[0],n[1]);case 3:return t.call(e,n[0],n[1],n[2])}return t.apply(e,n)}(e,this,s)});t.exports=o}},e={};function n(i){var o=e[i];if(void 0!==o)return o.exports;var r=e[i]={exports:{}};return t[i](r,r.exports,n),r.exports}n.n=t=>{var e=t&&t.__esModule?()=>t.default:()=>t;return n.d(e,{a:e}),e},n.d=(t,e)=>{for(var i in e)n.o(e,i)&&!n.o(t,i)&&Object.defineProperty(t,i,{enumerable:!0,get:e[i]})},n.g=function(){if(\"object\"==typeof globalThis)return globalThis;try{return this||new Function(\"return this\")()}catch(t){if(\"object\"==typeof window)return window}}(),n.o=(t,e)=>Object.prototype.hasOwnProperty.call(t,e),(()=>{\"use strict\";const t=t=>{const e=new Set;do{for(const n of Reflect.ownKeys(t))e.add([t,n])}while((t=Reflect.getPrototypeOf(t))&&t!==Object.prototype);return e};function e(e,{include:n,exclude:i}={}){const o=t=>{const e=e=>\"string\"==typeof e?t===e:e.test(t);return n?n.some(e):!i||!i.some(e)};for(const[n,i]of t(e.constructor.prototype)){if(\"constructor\"===i||!o(i))continue;const t=Reflect.getOwnPropertyDescriptor(n,i);t&&\"function\"==typeof t.value&&(e[i]=e[i].bind(e))}return e}var i=n(777),o=n.n(i),r=n(296),a=n.n(r);class s{constructor(t,n){e(this),this.interfaceId=t,this.callbackMap={},this.data={},this.pendingData={},this.jcomm=new c(\"guidance_interface_target_\"+this.interfaceId,this.updateData,\"open\"),this.debouncedSendPendingData500=a()(this.sendPendingData,500),this.debouncedSendPendingData1000=a()(this.sendPendingData,1e3),n&&o()(n)}send(t,e){this.addPendingData(t,e),this.sendPendingData()}sendEvent(t){for(const e of Object.keys(t))this.addPendingData(e,t[e]);this.sendPendingData()}debouncedSendEvent500(t){for(const e of Object.keys(t))this.addPendingData(e,t[e]);this.debouncedSendPendingData500()}debouncedSend500(t,e){this.addPendingData(t,e),this.debouncedSendPendingData500()}debouncedSend1000(t,e){this.addPendingData(t,e),this.debouncedSendPendingData1000()}addPendingData(t,e){Array.isArray(t)||(t=[t]);for(const n in t)this.pendingData[t[n]]=e}updateData(t){t=JSON.parse(t.data);for(const e in t)this.data[e]=t[e];for(const e in t)e in this.callbackMap&&this.callbackMap[e](this.data[e])}subscribe(t,e){this.callbackMap[t]=e,o()((e=>this.callbackMap[t](this.data[t])))}sendPendingData(){this.jcomm.send_data(this.pendingData),this.pendingData={}}}class c{constructor(t,e,n=\"open\"){this._fire_callback=this._fire_callback.bind(this),this._register=this._register.bind(this),this.jcomm=void 0,this.callback=e,void 0!==window.Jupyter?\"register\"===n?Jupyter.notebook.kernel.comm_manager.register_target(t,this._register):(this.jcomm=Jupyter.notebook.kernel.comm_manager.new_comm(t),this.jcomm.on_msg(this._fire_callback)):void 0!==window._mgr&&(\"register\"===n?window._mgr.widgetManager.proxyKernel.registerCommTarget(t,this._register):(this.jcomm=window._mgr.widgetManager.proxyKernel.createComm(t),this.jcomm.open({},\"\"),this.jcomm.onMsg=this._fire_callback))}send_data(t){void 0!==this.jcomm?this.jcomm.send(t):console.error(\"Jupyter comm module not yet loaded! So we can't send the message.\")}_register(t,e){this.jcomm=t,this.jcomm.on_msg(this._fire_callback)}_fire_callback(t){this.callback(t.content.data)}}class d{constructor(t,n){e(this),this.id=t,this.comm=new s(t),this.comm.subscribe(\"append\",this.appendData),this.comm.subscribe(\"replace\",this.replaceData),this.comm.subscribe(\"event\",this.eventOccurred),this.element=document.getElementById(\"guidance-content-\"+t),this.stop_button=document.getElementById(\"guidance-stop-button-\"+t),this.stop_button.onclick=()=>this.comm.send(\"event\",\"stop\")}appendData(t){t&&(this.stop_button.style.display=\"inline-block\",this.element.innerHTML+=t)}replaceData(t){t&&(this.stop_button.style.display=\"inline-block\",this.element.innerHTML=t)}eventOccurred(t){\"complete\"===t&&(this.stop_button.style.display=\"none\")}}window._guidanceDisplay=function(t,e){return new d(t,e)}})()})();; window._guidanceDisplay(\"aba9a926-f882-42be-8415-da846a100c62\");</script>"
      ]
     },
     "metadata": {},
     "output_type": "display_data"
    },
    {
     "ename": "KeyboardInterrupt",
     "evalue": "",
     "output_type": "error",
     "traceback": [
      "\u001B[1;31m---------------------------------------------------------------------------\u001B[0m",
      "\u001B[1;31mKeyboardInterrupt\u001B[0m                         Traceback (most recent call last)",
      "Cell \u001B[1;32mIn[8], line 2\u001B[0m\n\u001B[0;32m      1\u001B[0m frankenstein\u001B[39m=\u001B[39mguidance(system \u001B[39m+\u001B[39m user \u001B[39m+\u001B[39m assistant)\n\u001B[1;32m----> 2\u001B[0m frankenstein(llm\u001B[39m=\u001B[39;49mgpt4)\n",
      "File \u001B[1;32mc:\\Users\\t-rdesicilia\\Documents\\VSCodeProjects\\.venv\\Lib\\site-packages\\guidance\\_program.py:295\u001B[0m, in \u001B[0;36mProgram.__call__\u001B[1;34m(self, **kwargs)\u001B[0m\n\u001B[0;32m    293\u001B[0m         \u001B[39mreturn\u001B[39;00m \u001B[39mself\u001B[39m\u001B[39m.\u001B[39m_stream_run(loop, new_program)\n\u001B[0;32m    294\u001B[0m     \u001B[39melse\u001B[39;00m:\n\u001B[1;32m--> 295\u001B[0m         loop\u001B[39m.\u001B[39;49mrun_until_complete(new_program\u001B[39m.\u001B[39;49mexecute())\n\u001B[0;32m    297\u001B[0m \u001B[39mreturn\u001B[39;00m new_program\n",
      "File \u001B[1;32mc:\\Users\\t-rdesicilia\\Documents\\VSCodeProjects\\.venv\\Lib\\site-packages\\nest_asyncio.py:84\u001B[0m, in \u001B[0;36m_patch_loop.<locals>.run_until_complete\u001B[1;34m(self, future)\u001B[0m\n\u001B[0;32m     82\u001B[0m     f\u001B[39m.\u001B[39m_log_destroy_pending \u001B[39m=\u001B[39m \u001B[39mFalse\u001B[39;00m\n\u001B[0;32m     83\u001B[0m \u001B[39mwhile\u001B[39;00m \u001B[39mnot\u001B[39;00m f\u001B[39m.\u001B[39mdone():\n\u001B[1;32m---> 84\u001B[0m     \u001B[39mself\u001B[39;49m\u001B[39m.\u001B[39;49m_run_once()\n\u001B[0;32m     85\u001B[0m     \u001B[39mif\u001B[39;00m \u001B[39mself\u001B[39m\u001B[39m.\u001B[39m_stopping:\n\u001B[0;32m     86\u001B[0m         \u001B[39mbreak\u001B[39;00m\n",
      "File \u001B[1;32mc:\\Users\\t-rdesicilia\\Documents\\VSCodeProjects\\.venv\\Lib\\site-packages\\nest_asyncio.py:107\u001B[0m, in \u001B[0;36m_patch_loop.<locals>._run_once\u001B[1;34m(self)\u001B[0m\n\u001B[0;32m    100\u001B[0m     heappop(scheduled)\n\u001B[0;32m    102\u001B[0m timeout \u001B[39m=\u001B[39m (\n\u001B[0;32m    103\u001B[0m     \u001B[39m0\u001B[39m \u001B[39mif\u001B[39;00m ready \u001B[39mor\u001B[39;00m \u001B[39mself\u001B[39m\u001B[39m.\u001B[39m_stopping\n\u001B[0;32m    104\u001B[0m     \u001B[39melse\u001B[39;00m \u001B[39mmin\u001B[39m(\u001B[39mmax\u001B[39m(\n\u001B[0;32m    105\u001B[0m         scheduled[\u001B[39m0\u001B[39m]\u001B[39m.\u001B[39m_when \u001B[39m-\u001B[39m \u001B[39mself\u001B[39m\u001B[39m.\u001B[39mtime(), \u001B[39m0\u001B[39m), \u001B[39m86400\u001B[39m) \u001B[39mif\u001B[39;00m scheduled\n\u001B[0;32m    106\u001B[0m     \u001B[39melse\u001B[39;00m \u001B[39mNone\u001B[39;00m)\n\u001B[1;32m--> 107\u001B[0m event_list \u001B[39m=\u001B[39m \u001B[39mself\u001B[39;49m\u001B[39m.\u001B[39;49m_selector\u001B[39m.\u001B[39;49mselect(timeout)\n\u001B[0;32m    108\u001B[0m \u001B[39mself\u001B[39m\u001B[39m.\u001B[39m_process_events(event_list)\n\u001B[0;32m    110\u001B[0m end_time \u001B[39m=\u001B[39m \u001B[39mself\u001B[39m\u001B[39m.\u001B[39mtime() \u001B[39m+\u001B[39m \u001B[39mself\u001B[39m\u001B[39m.\u001B[39m_clock_resolution\n",
      "File \u001B[1;32mC:\\Program Files\\WindowsApps\\PythonSoftwareFoundation.Python.3.11_3.11.1264.0_x64__qbz5n2kfra8p0\\Lib\\selectors.py:323\u001B[0m, in \u001B[0;36mSelectSelector.select\u001B[1;34m(self, timeout)\u001B[0m\n\u001B[0;32m    321\u001B[0m ready \u001B[39m=\u001B[39m []\n\u001B[0;32m    322\u001B[0m \u001B[39mtry\u001B[39;00m:\n\u001B[1;32m--> 323\u001B[0m     r, w, _ \u001B[39m=\u001B[39m \u001B[39mself\u001B[39;49m\u001B[39m.\u001B[39;49m_select(\u001B[39mself\u001B[39;49m\u001B[39m.\u001B[39;49m_readers, \u001B[39mself\u001B[39;49m\u001B[39m.\u001B[39;49m_writers, [], timeout)\n\u001B[0;32m    324\u001B[0m \u001B[39mexcept\u001B[39;00m \u001B[39mInterruptedError\u001B[39;00m:\n\u001B[0;32m    325\u001B[0m     \u001B[39mreturn\u001B[39;00m ready\n",
      "File \u001B[1;32mC:\\Program Files\\WindowsApps\\PythonSoftwareFoundation.Python.3.11_3.11.1264.0_x64__qbz5n2kfra8p0\\Lib\\selectors.py:314\u001B[0m, in \u001B[0;36mSelectSelector._select\u001B[1;34m(self, r, w, _, timeout)\u001B[0m\n\u001B[0;32m    313\u001B[0m \u001B[39mdef\u001B[39;00m \u001B[39m_select\u001B[39m(\u001B[39mself\u001B[39m, r, w, _, timeout\u001B[39m=\u001B[39m\u001B[39mNone\u001B[39;00m):\n\u001B[1;32m--> 314\u001B[0m     r, w, x \u001B[39m=\u001B[39m select\u001B[39m.\u001B[39mselect(r, w, w, timeout)\n\u001B[0;32m    315\u001B[0m     \u001B[39mreturn\u001B[39;00m r, w \u001B[39m+\u001B[39m x, []\n",
      "\u001B[1;31mKeyboardInterrupt\u001B[0m: "
     ]
    }
   ],
   "source": [
    "frankenstein=guidance(system + user + assistant)\n",
    "frankenstein(llm=gpt4)"
   ]
  },
  {
   "cell_type": "code",
   "execution_count": 9,
   "metadata": {},
   "outputs": [],
   "source": [
    "template = \"\"\"\n",
    "{{#system~}} \n",
    "You are a really good comedian who can look into the depth of a person, undersand them, and find comedy in their suffering. \n",
    "{{~/system}}\n",
    "\n",
    "{{#user~}} \n",
    "I am learnin about fashion and how to dress myself for who I wish to be. \n",
    "I've come to realize how much I love fantasy, medieval, and nordic music (celtic songs), art, scenery, and artistic expression.\n",
    "I would like to find a way to add these creative things to my wardrobe in a way where I can comfortably use it at the office.\n",
    "{{~/user}}\n",
    "\n",
    "{{#assistant~}} {{gen \"output\"}} {{~/assistant}}\n",
    "\"\"\""
   ]
  },
  {
   "cell_type": "code",
   "execution_count": 10,
   "metadata": {},
   "outputs": [
    {
     "data": {
      "text/html": [
       "<div id=\"guidance-stop-button-3fa6fd23-de58-4505-b0d2-03d7aed8f7f4\" style=\"cursor: pointer; margin: 0px; display: none; float: right; padding: 3px; border-radius: 4px 4px 4px 4px; border: 0px solid rgba(127, 127, 127, 1); padding-left: 10px; padding-right: 10px; font-size: 13px; background-color: rgba(127, 127, 127, 0.25);\">Stop program</div><div id=\"guidance-content-3fa6fd23-de58-4505-b0d2-03d7aed8f7f4\"><pre style='margin: 0px; padding: 0px; padding-left: 8px; margin-left: -8px; border-radius: 0px; border-left: 1px solid rgba(127, 127, 127, 0.2); white-space: pre-wrap; font-family: ColfaxAI, Arial; font-size: 15px; line-height: 23px;'> \n",
       "<span style='font-family: monospace; background-color: rgba(0, 0, 0, 0.05);'>{{#system~}}</span> \n",
       "You are a really good comedian who can look into the depth of a person, undersand them, and find comedy in their suffering. \n",
       "<span style='font-family: monospace; background-color: rgba(0, 0, 0, 0.05);'>{{~/system}}</span>\n",
       "\n",
       "<span style='font-family: monospace; background-color: rgba(0, 0, 0, 0.05);'>{{#user~}}</span> \n",
       "I am learnin about fashion and how to dress myself for who I wish to be. \n",
       "I&#x27;ve come to realize how much I love fantasy, medieval, and nordic music (celtic songs), art, scenery, and artistic expression.\n",
       "I would like to find a way to add these creative things to my wardrobe in a way where I can comfortably use it at the office.\n",
       "<span style='font-family: monospace; background-color: rgba(0, 0, 0, 0.05);'>{{~/user}}</span>\n",
       "\n",
       "<span style='font-family: monospace; background-color: rgba(0, 0, 0, 0.05);'>{{#assistant~}}</span> <span style='font-family: monospace; background-color: rgba(0, 0, 0, 0.05);'>{{gen &quot;output&quot;}}</span> <span style='font-family: monospace; background-color: rgba(0, 0, 0, 0.05);'>{{~/assistant}}</span>\n",
       " </pre></div>\n",
       "<script type=\"text/javascript\">(()=>{var t={296:(t,e,n)=>{var i=NaN,o=\"[object Symbol]\",r=/^\\s+|\\s+$/g,a=/^[-+]0x[0-9a-f]+$/i,s=/^0b[01]+$/i,c=/^0o[0-7]+$/i,d=parseInt,u=\"object\"==typeof n.g&&n.g&&n.g.Object===Object&&n.g,l=\"object\"==typeof self&&self&&self.Object===Object&&self,f=u||l||Function(\"return this\")(),h=Object.prototype.toString,p=Math.max,m=Math.min,g=function(){return f.Date.now()};function b(t){var e=typeof t;return!!t&&(\"object\"==e||\"function\"==e)}function y(t){if(\"number\"==typeof t)return t;if(function(t){return\"symbol\"==typeof t||function(t){return!!t&&\"object\"==typeof t}(t)&&h.call(t)==o}(t))return i;if(b(t)){var e=\"function\"==typeof t.valueOf?t.valueOf():t;t=b(e)?e+\"\":e}if(\"string\"!=typeof t)return 0===t?t:+t;t=t.replace(r,\"\");var n=s.test(t);return n||c.test(t)?d(t.slice(2),n?2:8):a.test(t)?i:+t}t.exports=function(t,e,n){var i,o,r,a,s,c,d=0,u=!1,l=!1,f=!0;if(\"function\"!=typeof t)throw new TypeError(\"Expected a function\");function h(e){var n=i,r=o;return i=o=void 0,d=e,a=t.apply(r,n)}function v(t){var n=t-c;return void 0===c||n>=e||n<0||l&&t-d>=r}function _(){var t=g();if(v(t))return w(t);s=setTimeout(_,function(t){var n=e-(t-c);return l?m(n,r-(t-d)):n}(t))}function w(t){return s=void 0,f&&i?h(t):(i=o=void 0,a)}function j(){var t=g(),n=v(t);if(i=arguments,o=this,c=t,n){if(void 0===s)return function(t){return d=t,s=setTimeout(_,e),u?h(t):a}(c);if(l)return s=setTimeout(_,e),h(c)}return void 0===s&&(s=setTimeout(_,e)),a}return e=y(e)||0,b(n)&&(u=!!n.leading,r=(l=\"maxWait\"in n)?p(y(n.maxWait)||0,e):r,f=\"trailing\"in n?!!n.trailing:f),j.cancel=function(){void 0!==s&&clearTimeout(s),d=0,i=c=o=s=void 0},j.flush=function(){return void 0===s?a:w(g())},j}},777:t=>{var e,n,i=Math.max,o=(e=function(t,e){return function(t,e,n){if(\"function\"!=typeof t)throw new TypeError(\"Expected a function\");return setTimeout((function(){t.apply(void 0,n)}),1)}(t,0,e)},n=i(void 0===n?e.length-1:n,0),function(){for(var t=arguments,o=-1,r=i(t.length-n,0),a=Array(r);++o<r;)a[o]=t[n+o];o=-1;for(var s=Array(n+1);++o<n;)s[o]=t[o];return s[n]=a,function(t,e,n){switch(n.length){case 0:return t.call(e);case 1:return t.call(e,n[0]);case 2:return t.call(e,n[0],n[1]);case 3:return t.call(e,n[0],n[1],n[2])}return t.apply(e,n)}(e,this,s)});t.exports=o}},e={};function n(i){var o=e[i];if(void 0!==o)return o.exports;var r=e[i]={exports:{}};return t[i](r,r.exports,n),r.exports}n.n=t=>{var e=t&&t.__esModule?()=>t.default:()=>t;return n.d(e,{a:e}),e},n.d=(t,e)=>{for(var i in e)n.o(e,i)&&!n.o(t,i)&&Object.defineProperty(t,i,{enumerable:!0,get:e[i]})},n.g=function(){if(\"object\"==typeof globalThis)return globalThis;try{return this||new Function(\"return this\")()}catch(t){if(\"object\"==typeof window)return window}}(),n.o=(t,e)=>Object.prototype.hasOwnProperty.call(t,e),(()=>{\"use strict\";const t=t=>{const e=new Set;do{for(const n of Reflect.ownKeys(t))e.add([t,n])}while((t=Reflect.getPrototypeOf(t))&&t!==Object.prototype);return e};function e(e,{include:n,exclude:i}={}){const o=t=>{const e=e=>\"string\"==typeof e?t===e:e.test(t);return n?n.some(e):!i||!i.some(e)};for(const[n,i]of t(e.constructor.prototype)){if(\"constructor\"===i||!o(i))continue;const t=Reflect.getOwnPropertyDescriptor(n,i);t&&\"function\"==typeof t.value&&(e[i]=e[i].bind(e))}return e}var i=n(777),o=n.n(i),r=n(296),a=n.n(r);class s{constructor(t,n){e(this),this.interfaceId=t,this.callbackMap={},this.data={},this.pendingData={},this.jcomm=new c(\"guidance_interface_target_\"+this.interfaceId,this.updateData,\"open\"),this.debouncedSendPendingData500=a()(this.sendPendingData,500),this.debouncedSendPendingData1000=a()(this.sendPendingData,1e3),n&&o()(n)}send(t,e){this.addPendingData(t,e),this.sendPendingData()}sendEvent(t){for(const e of Object.keys(t))this.addPendingData(e,t[e]);this.sendPendingData()}debouncedSendEvent500(t){for(const e of Object.keys(t))this.addPendingData(e,t[e]);this.debouncedSendPendingData500()}debouncedSend500(t,e){this.addPendingData(t,e),this.debouncedSendPendingData500()}debouncedSend1000(t,e){this.addPendingData(t,e),this.debouncedSendPendingData1000()}addPendingData(t,e){Array.isArray(t)||(t=[t]);for(const n in t)this.pendingData[t[n]]=e}updateData(t){t=JSON.parse(t.data);for(const e in t)this.data[e]=t[e];for(const e in t)e in this.callbackMap&&this.callbackMap[e](this.data[e])}subscribe(t,e){this.callbackMap[t]=e,o()((e=>this.callbackMap[t](this.data[t])))}sendPendingData(){this.jcomm.send_data(this.pendingData),this.pendingData={}}}class c{constructor(t,e,n=\"open\"){this._fire_callback=this._fire_callback.bind(this),this._register=this._register.bind(this),this.jcomm=void 0,this.callback=e,void 0!==window.Jupyter?\"register\"===n?Jupyter.notebook.kernel.comm_manager.register_target(t,this._register):(this.jcomm=Jupyter.notebook.kernel.comm_manager.new_comm(t),this.jcomm.on_msg(this._fire_callback)):void 0!==window._mgr&&(\"register\"===n?window._mgr.widgetManager.proxyKernel.registerCommTarget(t,this._register):(this.jcomm=window._mgr.widgetManager.proxyKernel.createComm(t),this.jcomm.open({},\"\"),this.jcomm.onMsg=this._fire_callback))}send_data(t){void 0!==this.jcomm?this.jcomm.send(t):console.error(\"Jupyter comm module not yet loaded! So we can't send the message.\")}_register(t,e){this.jcomm=t,this.jcomm.on_msg(this._fire_callback)}_fire_callback(t){this.callback(t.content.data)}}class d{constructor(t,n){e(this),this.id=t,this.comm=new s(t),this.comm.subscribe(\"append\",this.appendData),this.comm.subscribe(\"replace\",this.replaceData),this.comm.subscribe(\"event\",this.eventOccurred),this.element=document.getElementById(\"guidance-content-\"+t),this.stop_button=document.getElementById(\"guidance-stop-button-\"+t),this.stop_button.onclick=()=>this.comm.send(\"event\",\"stop\")}appendData(t){t&&(this.stop_button.style.display=\"inline-block\",this.element.innerHTML+=t)}replaceData(t){t&&(this.stop_button.style.display=\"inline-block\",this.element.innerHTML=t)}eventOccurred(t){\"complete\"===t&&(this.stop_button.style.display=\"none\")}}window._guidanceDisplay=function(t,e){return new d(t,e)}})()})();; window._guidanceDisplay(\"3fa6fd23-de58-4505-b0d2-03d7aed8f7f4\");</script>"
      ]
     },
     "metadata": {},
     "output_type": "display_data"
    }
   ],
   "source": [
    "not_frank=guidance(template)\n",
    "not_frank(llm=gpt4)"
   ]
  },
  {
   "cell_type": "code",
   "execution_count": 13,
   "metadata": {},
   "outputs": [],
   "source": [
    "template2 = \"\"\"\n",
    "You are a really good comedian who can look into the depth of a person, undersand them, and find comedy in their suffering. \n",
    "I am learnin about fashion and how to dress myself for who I wish to be. \n",
    "I've come to realize how much I love fantasy, medieval, and nordic music (celtic songs), art, scenery, and artistic expression.\n",
    "I would like to find a way to add these creative things to my wardrobe in a way where I can comfortably use it at the office.\n",
    "{{gen \"output\"}}\n",
    "\"\"\""
   ]
  },
  {
   "cell_type": "code",
   "execution_count": 14,
   "metadata": {},
   "outputs": [
    {
     "data": {
      "text/html": [
       "<div id=\"guidance-stop-button-5d5d4138-c91b-4934-9258-249e12f8dcf9\" style=\"cursor: pointer; margin: 0px; display: none; float: right; padding: 3px; border-radius: 4px 4px 4px 4px; border: 0px solid rgba(127, 127, 127, 1); padding-left: 10px; padding-right: 10px; font-size: 13px; background-color: rgba(127, 127, 127, 0.25);\">Stop program</div><div id=\"guidance-content-5d5d4138-c91b-4934-9258-249e12f8dcf9\"><pre style='margin: 0px; padding: 0px; padding-left: 8px; margin-left: -8px; border-radius: 0px; border-left: 1px solid rgba(127, 127, 127, 0.2); white-space: pre-wrap; font-family: ColfaxAI, Arial; font-size: 15px; line-height: 23px;'> \n",
       "You are a really good comedian who can look into the depth of a person, undersand them, and find comedy in their suffering. \n",
       "I am learnin about fashion and how to dress myself for who I wish to be. \n",
       "I&#x27;ve come to realize how much I love fantasy, medieval, and nordic music (celtic songs), art, scenery, and artistic expression.\n",
       "I would like to find a way to add these creative things to my wardrobe in a way where I can comfortably use it at the office.\n",
       "<span style='background-color: rgba(0, 165, 0, 0.25); opacity: 1.0; display: inline;' title='{{gen &quot;output&quot;}}'></pre></div>\n",
       "<script type=\"text/javascript\">(()=>{var t={296:(t,e,n)=>{var i=NaN,o=\"[object Symbol]\",r=/^\\s+|\\s+$/g,a=/^[-+]0x[0-9a-f]+$/i,s=/^0b[01]+$/i,c=/^0o[0-7]+$/i,d=parseInt,u=\"object\"==typeof n.g&&n.g&&n.g.Object===Object&&n.g,l=\"object\"==typeof self&&self&&self.Object===Object&&self,f=u||l||Function(\"return this\")(),h=Object.prototype.toString,p=Math.max,m=Math.min,g=function(){return f.Date.now()};function b(t){var e=typeof t;return!!t&&(\"object\"==e||\"function\"==e)}function y(t){if(\"number\"==typeof t)return t;if(function(t){return\"symbol\"==typeof t||function(t){return!!t&&\"object\"==typeof t}(t)&&h.call(t)==o}(t))return i;if(b(t)){var e=\"function\"==typeof t.valueOf?t.valueOf():t;t=b(e)?e+\"\":e}if(\"string\"!=typeof t)return 0===t?t:+t;t=t.replace(r,\"\");var n=s.test(t);return n||c.test(t)?d(t.slice(2),n?2:8):a.test(t)?i:+t}t.exports=function(t,e,n){var i,o,r,a,s,c,d=0,u=!1,l=!1,f=!0;if(\"function\"!=typeof t)throw new TypeError(\"Expected a function\");function h(e){var n=i,r=o;return i=o=void 0,d=e,a=t.apply(r,n)}function v(t){var n=t-c;return void 0===c||n>=e||n<0||l&&t-d>=r}function _(){var t=g();if(v(t))return w(t);s=setTimeout(_,function(t){var n=e-(t-c);return l?m(n,r-(t-d)):n}(t))}function w(t){return s=void 0,f&&i?h(t):(i=o=void 0,a)}function j(){var t=g(),n=v(t);if(i=arguments,o=this,c=t,n){if(void 0===s)return function(t){return d=t,s=setTimeout(_,e),u?h(t):a}(c);if(l)return s=setTimeout(_,e),h(c)}return void 0===s&&(s=setTimeout(_,e)),a}return e=y(e)||0,b(n)&&(u=!!n.leading,r=(l=\"maxWait\"in n)?p(y(n.maxWait)||0,e):r,f=\"trailing\"in n?!!n.trailing:f),j.cancel=function(){void 0!==s&&clearTimeout(s),d=0,i=c=o=s=void 0},j.flush=function(){return void 0===s?a:w(g())},j}},777:t=>{var e,n,i=Math.max,o=(e=function(t,e){return function(t,e,n){if(\"function\"!=typeof t)throw new TypeError(\"Expected a function\");return setTimeout((function(){t.apply(void 0,n)}),1)}(t,0,e)},n=i(void 0===n?e.length-1:n,0),function(){for(var t=arguments,o=-1,r=i(t.length-n,0),a=Array(r);++o<r;)a[o]=t[n+o];o=-1;for(var s=Array(n+1);++o<n;)s[o]=t[o];return s[n]=a,function(t,e,n){switch(n.length){case 0:return t.call(e);case 1:return t.call(e,n[0]);case 2:return t.call(e,n[0],n[1]);case 3:return t.call(e,n[0],n[1],n[2])}return t.apply(e,n)}(e,this,s)});t.exports=o}},e={};function n(i){var o=e[i];if(void 0!==o)return o.exports;var r=e[i]={exports:{}};return t[i](r,r.exports,n),r.exports}n.n=t=>{var e=t&&t.__esModule?()=>t.default:()=>t;return n.d(e,{a:e}),e},n.d=(t,e)=>{for(var i in e)n.o(e,i)&&!n.o(t,i)&&Object.defineProperty(t,i,{enumerable:!0,get:e[i]})},n.g=function(){if(\"object\"==typeof globalThis)return globalThis;try{return this||new Function(\"return this\")()}catch(t){if(\"object\"==typeof window)return window}}(),n.o=(t,e)=>Object.prototype.hasOwnProperty.call(t,e),(()=>{\"use strict\";const t=t=>{const e=new Set;do{for(const n of Reflect.ownKeys(t))e.add([t,n])}while((t=Reflect.getPrototypeOf(t))&&t!==Object.prototype);return e};function e(e,{include:n,exclude:i}={}){const o=t=>{const e=e=>\"string\"==typeof e?t===e:e.test(t);return n?n.some(e):!i||!i.some(e)};for(const[n,i]of t(e.constructor.prototype)){if(\"constructor\"===i||!o(i))continue;const t=Reflect.getOwnPropertyDescriptor(n,i);t&&\"function\"==typeof t.value&&(e[i]=e[i].bind(e))}return e}var i=n(777),o=n.n(i),r=n(296),a=n.n(r);class s{constructor(t,n){e(this),this.interfaceId=t,this.callbackMap={},this.data={},this.pendingData={},this.jcomm=new c(\"guidance_interface_target_\"+this.interfaceId,this.updateData,\"open\"),this.debouncedSendPendingData500=a()(this.sendPendingData,500),this.debouncedSendPendingData1000=a()(this.sendPendingData,1e3),n&&o()(n)}send(t,e){this.addPendingData(t,e),this.sendPendingData()}sendEvent(t){for(const e of Object.keys(t))this.addPendingData(e,t[e]);this.sendPendingData()}debouncedSendEvent500(t){for(const e of Object.keys(t))this.addPendingData(e,t[e]);this.debouncedSendPendingData500()}debouncedSend500(t,e){this.addPendingData(t,e),this.debouncedSendPendingData500()}debouncedSend1000(t,e){this.addPendingData(t,e),this.debouncedSendPendingData1000()}addPendingData(t,e){Array.isArray(t)||(t=[t]);for(const n in t)this.pendingData[t[n]]=e}updateData(t){t=JSON.parse(t.data);for(const e in t)this.data[e]=t[e];for(const e in t)e in this.callbackMap&&this.callbackMap[e](this.data[e])}subscribe(t,e){this.callbackMap[t]=e,o()((e=>this.callbackMap[t](this.data[t])))}sendPendingData(){this.jcomm.send_data(this.pendingData),this.pendingData={}}}class c{constructor(t,e,n=\"open\"){this._fire_callback=this._fire_callback.bind(this),this._register=this._register.bind(this),this.jcomm=void 0,this.callback=e,void 0!==window.Jupyter?\"register\"===n?Jupyter.notebook.kernel.comm_manager.register_target(t,this._register):(this.jcomm=Jupyter.notebook.kernel.comm_manager.new_comm(t),this.jcomm.on_msg(this._fire_callback)):void 0!==window._mgr&&(\"register\"===n?window._mgr.widgetManager.proxyKernel.registerCommTarget(t,this._register):(this.jcomm=window._mgr.widgetManager.proxyKernel.createComm(t),this.jcomm.open({},\"\"),this.jcomm.onMsg=this._fire_callback))}send_data(t){void 0!==this.jcomm?this.jcomm.send(t):console.error(\"Jupyter comm module not yet loaded! So we can't send the message.\")}_register(t,e){this.jcomm=t,this.jcomm.on_msg(this._fire_callback)}_fire_callback(t){this.callback(t.content.data)}}class d{constructor(t,n){e(this),this.id=t,this.comm=new s(t),this.comm.subscribe(\"append\",this.appendData),this.comm.subscribe(\"replace\",this.replaceData),this.comm.subscribe(\"event\",this.eventOccurred),this.element=document.getElementById(\"guidance-content-\"+t),this.stop_button=document.getElementById(\"guidance-stop-button-\"+t),this.stop_button.onclick=()=>this.comm.send(\"event\",\"stop\")}appendData(t){t&&(this.stop_button.style.display=\"inline-block\",this.element.innerHTML+=t)}replaceData(t){t&&(this.stop_button.style.display=\"inline-block\",this.element.innerHTML=t)}eventOccurred(t){\"complete\"===t&&(this.stop_button.style.display=\"none\")}}window._guidanceDisplay=function(t,e){return new d(t,e)}})()})();; window._guidanceDisplay(\"5d5d4138-c91b-4934-9258-249e12f8dcf9\");</script>"
      ]
     },
     "metadata": {},
     "output_type": "display_data"
    },
    {
     "ename": "KeyboardInterrupt",
     "evalue": "",
     "output_type": "error",
     "traceback": [
      "\u001B[1;31m---------------------------------------------------------------------------\u001B[0m",
      "\u001B[1;31mKeyboardInterrupt\u001B[0m                         Traceback (most recent call last)",
      "Cell \u001B[1;32mIn[14], line 2\u001B[0m\n\u001B[0;32m      1\u001B[0m straight\u001B[39m=\u001B[39mguidance(template2)\n\u001B[1;32m----> 2\u001B[0m output \u001B[39m=\u001B[39m straight(llm\u001B[39m=\u001B[39;49mdavinci)\n",
      "File \u001B[1;32mc:\\Users\\t-rdesicilia\\Documents\\VSCodeProjects\\.venv\\Lib\\site-packages\\guidance\\_program.py:295\u001B[0m, in \u001B[0;36mProgram.__call__\u001B[1;34m(self, **kwargs)\u001B[0m\n\u001B[0;32m    293\u001B[0m         \u001B[39mreturn\u001B[39;00m \u001B[39mself\u001B[39m\u001B[39m.\u001B[39m_stream_run(loop, new_program)\n\u001B[0;32m    294\u001B[0m     \u001B[39melse\u001B[39;00m:\n\u001B[1;32m--> 295\u001B[0m         loop\u001B[39m.\u001B[39;49mrun_until_complete(new_program\u001B[39m.\u001B[39;49mexecute())\n\u001B[0;32m    297\u001B[0m \u001B[39mreturn\u001B[39;00m new_program\n",
      "File \u001B[1;32mc:\\Users\\t-rdesicilia\\Documents\\VSCodeProjects\\.venv\\Lib\\site-packages\\nest_asyncio.py:84\u001B[0m, in \u001B[0;36m_patch_loop.<locals>.run_until_complete\u001B[1;34m(self, future)\u001B[0m\n\u001B[0;32m     82\u001B[0m     f\u001B[39m.\u001B[39m_log_destroy_pending \u001B[39m=\u001B[39m \u001B[39mFalse\u001B[39;00m\n\u001B[0;32m     83\u001B[0m \u001B[39mwhile\u001B[39;00m \u001B[39mnot\u001B[39;00m f\u001B[39m.\u001B[39mdone():\n\u001B[1;32m---> 84\u001B[0m     \u001B[39mself\u001B[39;49m\u001B[39m.\u001B[39;49m_run_once()\n\u001B[0;32m     85\u001B[0m     \u001B[39mif\u001B[39;00m \u001B[39mself\u001B[39m\u001B[39m.\u001B[39m_stopping:\n\u001B[0;32m     86\u001B[0m         \u001B[39mbreak\u001B[39;00m\n",
      "File \u001B[1;32mc:\\Users\\t-rdesicilia\\Documents\\VSCodeProjects\\.venv\\Lib\\site-packages\\nest_asyncio.py:107\u001B[0m, in \u001B[0;36m_patch_loop.<locals>._run_once\u001B[1;34m(self)\u001B[0m\n\u001B[0;32m    100\u001B[0m     heappop(scheduled)\n\u001B[0;32m    102\u001B[0m timeout \u001B[39m=\u001B[39m (\n\u001B[0;32m    103\u001B[0m     \u001B[39m0\u001B[39m \u001B[39mif\u001B[39;00m ready \u001B[39mor\u001B[39;00m \u001B[39mself\u001B[39m\u001B[39m.\u001B[39m_stopping\n\u001B[0;32m    104\u001B[0m     \u001B[39melse\u001B[39;00m \u001B[39mmin\u001B[39m(\u001B[39mmax\u001B[39m(\n\u001B[0;32m    105\u001B[0m         scheduled[\u001B[39m0\u001B[39m]\u001B[39m.\u001B[39m_when \u001B[39m-\u001B[39m \u001B[39mself\u001B[39m\u001B[39m.\u001B[39mtime(), \u001B[39m0\u001B[39m), \u001B[39m86400\u001B[39m) \u001B[39mif\u001B[39;00m scheduled\n\u001B[0;32m    106\u001B[0m     \u001B[39melse\u001B[39;00m \u001B[39mNone\u001B[39;00m)\n\u001B[1;32m--> 107\u001B[0m event_list \u001B[39m=\u001B[39m \u001B[39mself\u001B[39;49m\u001B[39m.\u001B[39;49m_selector\u001B[39m.\u001B[39;49mselect(timeout)\n\u001B[0;32m    108\u001B[0m \u001B[39mself\u001B[39m\u001B[39m.\u001B[39m_process_events(event_list)\n\u001B[0;32m    110\u001B[0m end_time \u001B[39m=\u001B[39m \u001B[39mself\u001B[39m\u001B[39m.\u001B[39mtime() \u001B[39m+\u001B[39m \u001B[39mself\u001B[39m\u001B[39m.\u001B[39m_clock_resolution\n",
      "File \u001B[1;32mC:\\Program Files\\WindowsApps\\PythonSoftwareFoundation.Python.3.11_3.11.1264.0_x64__qbz5n2kfra8p0\\Lib\\selectors.py:323\u001B[0m, in \u001B[0;36mSelectSelector.select\u001B[1;34m(self, timeout)\u001B[0m\n\u001B[0;32m    321\u001B[0m ready \u001B[39m=\u001B[39m []\n\u001B[0;32m    322\u001B[0m \u001B[39mtry\u001B[39;00m:\n\u001B[1;32m--> 323\u001B[0m     r, w, _ \u001B[39m=\u001B[39m \u001B[39mself\u001B[39;49m\u001B[39m.\u001B[39;49m_select(\u001B[39mself\u001B[39;49m\u001B[39m.\u001B[39;49m_readers, \u001B[39mself\u001B[39;49m\u001B[39m.\u001B[39;49m_writers, [], timeout)\n\u001B[0;32m    324\u001B[0m \u001B[39mexcept\u001B[39;00m \u001B[39mInterruptedError\u001B[39;00m:\n\u001B[0;32m    325\u001B[0m     \u001B[39mreturn\u001B[39;00m ready\n",
      "File \u001B[1;32mC:\\Program Files\\WindowsApps\\PythonSoftwareFoundation.Python.3.11_3.11.1264.0_x64__qbz5n2kfra8p0\\Lib\\selectors.py:314\u001B[0m, in \u001B[0;36mSelectSelector._select\u001B[1;34m(self, r, w, _, timeout)\u001B[0m\n\u001B[0;32m    313\u001B[0m \u001B[39mdef\u001B[39;00m \u001B[39m_select\u001B[39m(\u001B[39mself\u001B[39m, r, w, _, timeout\u001B[39m=\u001B[39m\u001B[39mNone\u001B[39;00m):\n\u001B[1;32m--> 314\u001B[0m     r, w, x \u001B[39m=\u001B[39m select\u001B[39m.\u001B[39mselect(r, w, w, timeout)\n\u001B[0;32m    315\u001B[0m     \u001B[39mreturn\u001B[39;00m r, w \u001B[39m+\u001B[39m x, []\n",
      "\u001B[1;31mKeyboardInterrupt\u001B[0m: "
     ]
    }
   ],
   "source": [
    "straight=guidance(template2)\n",
    "output = straight(llm=davinci)"
   ]
  }
 ],
 "metadata": {
  "kernelspec": {
   "display_name": ".venv",
   "language": "python",
   "name": "python3"
  },
  "language_info": {
   "codemirror_mode": {
    "name": "ipython",
    "version": 3
   },
   "file_extension": ".py",
   "mimetype": "text/x-python",
   "name": "python",
   "nbconvert_exporter": "python",
   "pygments_lexer": "ipython3",
   "version": "3.11.4"
  },
  "orig_nbformat": 4
 },
 "nbformat": 4,
 "nbformat_minor": 2
}
